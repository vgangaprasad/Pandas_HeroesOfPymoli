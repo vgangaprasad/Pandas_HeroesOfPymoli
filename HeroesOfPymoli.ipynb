{
 "cells": [
  {
   "cell_type": "markdown",
   "metadata": {},
   "source": [
    "### Heroes Of Pymoli Data Analysis\n",
    "* Of the 1163 active players, the vast majority are male (84%). There also exists, a smaller, but notable proportion of female players (14%).\n",
    "\n",
    "* Our peak age demographic falls between 20-24 (44.8%) with secondary groups falling between 15-19 (18.60%) and 25-29 (13.4%).  \n",
    "-----"
   ]
  },
  {
   "cell_type": "markdown",
   "metadata": {},
   "source": [
    "### Note\n",
    "* Instructions have been included for each segment. You do not have to follow them exactly, but they are included to help you think through the steps."
   ]
  },
  {
   "cell_type": "code",
   "execution_count": 109,
   "metadata": {
    "scrolled": true
   },
   "outputs": [],
   "source": [
    "# Dependencies and Setup\n",
    "import pandas as pd"
   ]
  },
  {
   "cell_type": "code",
   "execution_count": 110,
   "metadata": {},
   "outputs": [],
   "source": [
    "# File to Load (Remember to Change These)\n",
    "file_to_load = \"Resources/purchase_data.csv\""
   ]
  },
  {
   "cell_type": "code",
   "execution_count": 111,
   "metadata": {},
   "outputs": [
    {
     "data": {
      "text/html": [
       "<div>\n",
       "<style scoped>\n",
       "    .dataframe tbody tr th:only-of-type {\n",
       "        vertical-align: middle;\n",
       "    }\n",
       "\n",
       "    .dataframe tbody tr th {\n",
       "        vertical-align: top;\n",
       "    }\n",
       "\n",
       "    .dataframe thead th {\n",
       "        text-align: right;\n",
       "    }\n",
       "</style>\n",
       "<table border=\"1\" class=\"dataframe\">\n",
       "  <thead>\n",
       "    <tr style=\"text-align: right;\">\n",
       "      <th></th>\n",
       "      <th>Purchase ID</th>\n",
       "      <th>SN</th>\n",
       "      <th>Age</th>\n",
       "      <th>Gender</th>\n",
       "      <th>Item ID</th>\n",
       "      <th>Item Name</th>\n",
       "      <th>Price</th>\n",
       "    </tr>\n",
       "  </thead>\n",
       "  <tbody>\n",
       "    <tr>\n",
       "      <th>0</th>\n",
       "      <td>0</td>\n",
       "      <td>Lisim78</td>\n",
       "      <td>20</td>\n",
       "      <td>Male</td>\n",
       "      <td>108</td>\n",
       "      <td>Extraction, Quickblade Of Trembling Hands</td>\n",
       "      <td>3.53</td>\n",
       "    </tr>\n",
       "    <tr>\n",
       "      <th>1</th>\n",
       "      <td>1</td>\n",
       "      <td>Lisovynya38</td>\n",
       "      <td>40</td>\n",
       "      <td>Male</td>\n",
       "      <td>143</td>\n",
       "      <td>Frenzied Scimitar</td>\n",
       "      <td>1.56</td>\n",
       "    </tr>\n",
       "    <tr>\n",
       "      <th>2</th>\n",
       "      <td>2</td>\n",
       "      <td>Ithergue48</td>\n",
       "      <td>24</td>\n",
       "      <td>Male</td>\n",
       "      <td>92</td>\n",
       "      <td>Final Critic</td>\n",
       "      <td>4.88</td>\n",
       "    </tr>\n",
       "    <tr>\n",
       "      <th>3</th>\n",
       "      <td>3</td>\n",
       "      <td>Chamassasya86</td>\n",
       "      <td>24</td>\n",
       "      <td>Male</td>\n",
       "      <td>100</td>\n",
       "      <td>Blindscythe</td>\n",
       "      <td>3.27</td>\n",
       "    </tr>\n",
       "    <tr>\n",
       "      <th>4</th>\n",
       "      <td>4</td>\n",
       "      <td>Iskosia90</td>\n",
       "      <td>23</td>\n",
       "      <td>Male</td>\n",
       "      <td>131</td>\n",
       "      <td>Fury</td>\n",
       "      <td>1.44</td>\n",
       "    </tr>\n",
       "  </tbody>\n",
       "</table>\n",
       "</div>"
      ],
      "text/plain": [
       "   Purchase ID             SN  Age Gender  Item ID  \\\n",
       "0            0        Lisim78   20   Male      108   \n",
       "1            1    Lisovynya38   40   Male      143   \n",
       "2            2     Ithergue48   24   Male       92   \n",
       "3            3  Chamassasya86   24   Male      100   \n",
       "4            4      Iskosia90   23   Male      131   \n",
       "\n",
       "                                   Item Name  Price  \n",
       "0  Extraction, Quickblade Of Trembling Hands   3.53  \n",
       "1                          Frenzied Scimitar   1.56  \n",
       "2                               Final Critic   4.88  \n",
       "3                                Blindscythe   3.27  \n",
       "4                                       Fury   1.44  "
      ]
     },
     "execution_count": 111,
     "metadata": {},
     "output_type": "execute_result"
    }
   ],
   "source": [
    "# Read Purchasing File and store into Pandas data frame\n",
    "purchase_data = pd.read_csv(file_to_load)\n",
    "purchase_data.head()"
   ]
  },
  {
   "cell_type": "markdown",
   "metadata": {},
   "source": [
    "## Player Count"
   ]
  },
  {
   "cell_type": "markdown",
   "metadata": {},
   "source": [
    "* Display the total number of players\n"
   ]
  },
  {
   "cell_type": "code",
   "execution_count": 112,
   "metadata": {},
   "outputs": [
    {
     "data": {
      "text/html": [
       "<div>\n",
       "<style scoped>\n",
       "    .dataframe tbody tr th:only-of-type {\n",
       "        vertical-align: middle;\n",
       "    }\n",
       "\n",
       "    .dataframe tbody tr th {\n",
       "        vertical-align: top;\n",
       "    }\n",
       "\n",
       "    .dataframe thead th {\n",
       "        text-align: right;\n",
       "    }\n",
       "</style>\n",
       "<table border=\"1\" class=\"dataframe\">\n",
       "  <thead>\n",
       "    <tr style=\"text-align: right;\">\n",
       "      <th></th>\n",
       "      <th>Total Players</th>\n",
       "    </tr>\n",
       "  </thead>\n",
       "  <tbody>\n",
       "    <tr>\n",
       "      <th>0</th>\n",
       "      <td>576</td>\n",
       "    </tr>\n",
       "  </tbody>\n",
       "</table>\n",
       "</div>"
      ],
      "text/plain": [
       "   Total Players\n",
       "0            576"
      ]
     },
     "execution_count": 112,
     "metadata": {},
     "output_type": "execute_result"
    }
   ],
   "source": [
    "#Player count\n",
    "\n",
    "#Get unique SN (player name) from the data\n",
    "player_count = len(purchase_data['SN'].unique())\n",
    "\n",
    "#Create a Data Frame with the value obtained from the previous step\n",
    "df_player = pd.DataFrame({\"Total Players\": [player_count]})\n",
    "df_player"
   ]
  },
  {
   "cell_type": "markdown",
   "metadata": {},
   "source": [
    "## Purchasing Analysis (Total)"
   ]
  },
  {
   "cell_type": "markdown",
   "metadata": {},
   "source": [
    "* Run basic calculations to obtain number of unique items, average price, etc.\n",
    "\n",
    "\n",
    "* Create a summary data frame to hold the results\n",
    "\n",
    "\n",
    "* Optional: give the displayed data cleaner formatting\n",
    "\n",
    "\n",
    "* Display the summary data frame\n"
   ]
  },
  {
   "cell_type": "code",
   "execution_count": 113,
   "metadata": {
    "scrolled": true
   },
   "outputs": [
    {
     "data": {
      "text/html": [
       "<style  type=\"text/css\" >\n",
       "</style><table id=\"T_02483b9c_ddb7_11e9_95de_10f0055b59b3\" ><thead>    <tr>        <th class=\"blank level0\" ></th>        <th class=\"col_heading level0 col0\" >Total Players</th>        <th class=\"col_heading level0 col1\" >Unique Items</th>        <th class=\"col_heading level0 col2\" >Average Price</th>        <th class=\"col_heading level0 col3\" >Number of Purchases</th>        <th class=\"col_heading level0 col4\" >Total Revenue</th>    </tr></thead><tbody>\n",
       "                <tr>\n",
       "                        <th id=\"T_02483b9c_ddb7_11e9_95de_10f0055b59b3level0_row0\" class=\"row_heading level0 row0\" >0</th>\n",
       "                        <td id=\"T_02483b9c_ddb7_11e9_95de_10f0055b59b3row0_col0\" class=\"data row0 col0\" >576</td>\n",
       "                        <td id=\"T_02483b9c_ddb7_11e9_95de_10f0055b59b3row0_col1\" class=\"data row0 col1\" >183</td>\n",
       "                        <td id=\"T_02483b9c_ddb7_11e9_95de_10f0055b59b3row0_col2\" class=\"data row0 col2\" >$3.05</td>\n",
       "                        <td id=\"T_02483b9c_ddb7_11e9_95de_10f0055b59b3row0_col3\" class=\"data row0 col3\" >780</td>\n",
       "                        <td id=\"T_02483b9c_ddb7_11e9_95de_10f0055b59b3row0_col4\" class=\"data row0 col4\" >$2379.77</td>\n",
       "            </tr>\n",
       "    </tbody></table>"
      ],
      "text/plain": [
       "<pandas.io.formats.style.Styler at 0x1370a0bd208>"
      ]
     },
     "execution_count": 113,
     "metadata": {},
     "output_type": "execute_result"
    }
   ],
   "source": [
    "# Purchasing Analysis (Total)\n",
    "\n",
    "#Get the unique items based on the unique Item ID's\n",
    "unique_items = len(purchase_data['Item ID'].unique())\n",
    "\n",
    "#Average Price of all the available purchase data\n",
    "avg_price = purchase_data['Price'].mean()\n",
    "\n",
    "#Number of Purchases based on the unique Purchase ID\n",
    "num_of_purchases = len(purchase_data['Purchase ID'].unique())\n",
    "\n",
    "#Total Revenue is calculated by getting the sum of all the prices present in the purchase data\n",
    "\n",
    "total_revenue = purchase_data['Price'].sum()\n",
    "\n",
    "#Create a Data Frame to store the data collected above:\n",
    "df_summary = pd.DataFrame({\"Total Players\" : [player_count],\n",
    "                          \"Unique Items\" : [unique_items],\n",
    "                          \"Average Price\" : [avg_price],\n",
    "                          \"Number of Purchases\" : [num_of_purchases],\n",
    "                          \"Total Revenue\": [total_revenue]})\n",
    "df_summary.style.format({'Average Price':'${:.2f}', 'Total Revenue':'${:.2f}'})"
   ]
  },
  {
   "cell_type": "markdown",
   "metadata": {},
   "source": [
    "## Gender Demographics"
   ]
  },
  {
   "cell_type": "markdown",
   "metadata": {},
   "source": [
    "* Percentage and Count of Male Players\n",
    "\n",
    "\n",
    "* Percentage and Count of Female Players\n",
    "\n",
    "\n",
    "* Percentage and Count of Other / Non-Disclosed\n",
    "\n",
    "\n"
   ]
  },
  {
   "cell_type": "code",
   "execution_count": 114,
   "metadata": {},
   "outputs": [
    {
     "data": {
      "text/html": [
       "<style  type=\"text/css\" >\n",
       "</style><table id=\"T_05de959a_ddb7_11e9_90b8_10f0055b59b3\" ><thead>    <tr>        <th class=\"blank level0\" ></th>        <th class=\"col_heading level0 col0\" >Total Count</th>        <th class=\"col_heading level0 col1\" >Percentage of Players</th>    </tr>    <tr>        <th class=\"index_name level0\" >Gender</th>        <th class=\"blank\" ></th>        <th class=\"blank\" ></th>    </tr></thead><tbody>\n",
       "                <tr>\n",
       "                        <th id=\"T_05de959a_ddb7_11e9_90b8_10f0055b59b3level0_row0\" class=\"row_heading level0 row0\" >Female</th>\n",
       "                        <td id=\"T_05de959a_ddb7_11e9_90b8_10f0055b59b3row0_col0\" class=\"data row0 col0\" >81</td>\n",
       "                        <td id=\"T_05de959a_ddb7_11e9_90b8_10f0055b59b3row0_col1\" class=\"data row0 col1\" >14.06%</td>\n",
       "            </tr>\n",
       "            <tr>\n",
       "                        <th id=\"T_05de959a_ddb7_11e9_90b8_10f0055b59b3level0_row1\" class=\"row_heading level0 row1\" >Male</th>\n",
       "                        <td id=\"T_05de959a_ddb7_11e9_90b8_10f0055b59b3row1_col0\" class=\"data row1 col0\" >484</td>\n",
       "                        <td id=\"T_05de959a_ddb7_11e9_90b8_10f0055b59b3row1_col1\" class=\"data row1 col1\" >84.03%</td>\n",
       "            </tr>\n",
       "            <tr>\n",
       "                        <th id=\"T_05de959a_ddb7_11e9_90b8_10f0055b59b3level0_row2\" class=\"row_heading level0 row2\" >Other / Non-Disclosed</th>\n",
       "                        <td id=\"T_05de959a_ddb7_11e9_90b8_10f0055b59b3row2_col0\" class=\"data row2 col0\" >11</td>\n",
       "                        <td id=\"T_05de959a_ddb7_11e9_90b8_10f0055b59b3row2_col1\" class=\"data row2 col1\" >1.91%</td>\n",
       "            </tr>\n",
       "    </tbody></table>"
      ],
      "text/plain": [
       "<pandas.io.formats.style.Styler at 0x1370a04c898>"
      ]
     },
     "execution_count": 114,
     "metadata": {},
     "output_type": "execute_result"
    }
   ],
   "source": [
    "#Create a DataFrame by doing a group by on Gender from the purchase_data dataframe\n",
    "grp_gender = purchase_data.groupby(['Gender'])\n",
    "\n",
    "#Get the Count of each Gender's present in the data\n",
    "unq_gender = grp_gender['SN'].nunique()\n",
    "\n",
    "#Percentage Calculation\n",
    "percent_gender = (unq_gender/sum(unq_gender)*100)\n",
    "\n",
    "#Create the Dataframe using the data collected above\n",
    "\n",
    "summary_gender = pd.DataFrame({\"Total Count\":unq_gender,\n",
    "                              \"Percentage of Players\": percent_gender})\n",
    "#Formatting the percentage field\n",
    "summary_gender = summary_gender.style.format({'Percentage of Players':'{:.2f}%'})\n",
    "\n",
    "summary_gender"
   ]
  },
  {
   "cell_type": "markdown",
   "metadata": {},
   "source": [
    "\n",
    "## Purchasing Analysis (Gender)"
   ]
  },
  {
   "cell_type": "markdown",
   "metadata": {},
   "source": [
    "* Run basic calculations to obtain purchase count, avg. purchase price, avg. purchase total per person etc. by gender\n",
    "\n",
    "\n",
    "\n",
    "\n",
    "* Create a summary data frame to hold the results\n",
    "\n",
    "\n",
    "* Optional: give the displayed data cleaner formatting\n",
    "\n",
    "\n",
    "* Display the summary data frame"
   ]
  },
  {
   "cell_type": "code",
   "execution_count": 115,
   "metadata": {},
   "outputs": [
    {
     "data": {
      "text/html": [
       "<style  type=\"text/css\" >\n",
       "</style><table id=\"T_08fb4fb6_ddb7_11e9_ad80_10f0055b59b3\" ><thead>    <tr>        <th class=\"blank level0\" ></th>        <th class=\"col_heading level0 col0\" >Purchase Count</th>        <th class=\"col_heading level0 col1\" >Average Purchase Price</th>        <th class=\"col_heading level0 col2\" >Total Purchase Value</th>        <th class=\"col_heading level0 col3\" >Average Purchase Total per Person by Gender</th>    </tr>    <tr>        <th class=\"index_name level0\" >Gender</th>        <th class=\"blank\" ></th>        <th class=\"blank\" ></th>        <th class=\"blank\" ></th>        <th class=\"blank\" ></th>    </tr></thead><tbody>\n",
       "                <tr>\n",
       "                        <th id=\"T_08fb4fb6_ddb7_11e9_ad80_10f0055b59b3level0_row0\" class=\"row_heading level0 row0\" >Female</th>\n",
       "                        <td id=\"T_08fb4fb6_ddb7_11e9_ad80_10f0055b59b3row0_col0\" class=\"data row0 col0\" >113</td>\n",
       "                        <td id=\"T_08fb4fb6_ddb7_11e9_ad80_10f0055b59b3row0_col1\" class=\"data row0 col1\" >$3.20</td>\n",
       "                        <td id=\"T_08fb4fb6_ddb7_11e9_ad80_10f0055b59b3row0_col2\" class=\"data row0 col2\" >361.94</td>\n",
       "                        <td id=\"T_08fb4fb6_ddb7_11e9_ad80_10f0055b59b3row0_col3\" class=\"data row0 col3\" >$4.47</td>\n",
       "            </tr>\n",
       "            <tr>\n",
       "                        <th id=\"T_08fb4fb6_ddb7_11e9_ad80_10f0055b59b3level0_row1\" class=\"row_heading level0 row1\" >Male</th>\n",
       "                        <td id=\"T_08fb4fb6_ddb7_11e9_ad80_10f0055b59b3row1_col0\" class=\"data row1 col0\" >652</td>\n",
       "                        <td id=\"T_08fb4fb6_ddb7_11e9_ad80_10f0055b59b3row1_col1\" class=\"data row1 col1\" >$3.02</td>\n",
       "                        <td id=\"T_08fb4fb6_ddb7_11e9_ad80_10f0055b59b3row1_col2\" class=\"data row1 col2\" >1967.64</td>\n",
       "                        <td id=\"T_08fb4fb6_ddb7_11e9_ad80_10f0055b59b3row1_col3\" class=\"data row1 col3\" >$4.07</td>\n",
       "            </tr>\n",
       "            <tr>\n",
       "                        <th id=\"T_08fb4fb6_ddb7_11e9_ad80_10f0055b59b3level0_row2\" class=\"row_heading level0 row2\" >Other / Non-Disclosed</th>\n",
       "                        <td id=\"T_08fb4fb6_ddb7_11e9_ad80_10f0055b59b3row2_col0\" class=\"data row2 col0\" >15</td>\n",
       "                        <td id=\"T_08fb4fb6_ddb7_11e9_ad80_10f0055b59b3row2_col1\" class=\"data row2 col1\" >$3.35</td>\n",
       "                        <td id=\"T_08fb4fb6_ddb7_11e9_ad80_10f0055b59b3row2_col2\" class=\"data row2 col2\" >50.19</td>\n",
       "                        <td id=\"T_08fb4fb6_ddb7_11e9_ad80_10f0055b59b3row2_col3\" class=\"data row2 col3\" >$4.56</td>\n",
       "            </tr>\n",
       "    </tbody></table>"
      ],
      "text/plain": [
       "<pandas.io.formats.style.Styler at 0x1370a000048>"
      ]
     },
     "execution_count": 115,
     "metadata": {},
     "output_type": "execute_result"
    }
   ],
   "source": [
    "#Purchasing Analysis by Gender\n",
    "\n",
    "#Create a DataFrame by doing a group by on Item ID from the purchase_data dataframe\n",
    "purchase_count = grp_gender['Item ID'].count()\n",
    "\n",
    "#Calcuate the Average Price using the dataframe grouped by Gender\n",
    "avg_purchase_price = grp_gender['Price'].mean()\n",
    "\n",
    "#Calcuate the Total Purchase using the dataframe grouped by Gender\n",
    "total_purchase = grp_gender['Price'].sum()\n",
    "\n",
    "#Calcuate the number of shoppers using the dataframe grouped by Gender\n",
    "num_of_shoppers = grp_gender['SN'].nunique()\n",
    "\n",
    "#Calcuate the Average purchase total using the dataframe grouped by Gender\n",
    "purchase_by_person = (total_purchase/num_of_shoppers)\n",
    "\n",
    "purchase_analysis = pd.DataFrame({'Purchase Count': purchase_count,\n",
    "                                  'Average Purchase Price': avg_purchase_price,\n",
    "                                  'Total Purchase Value': total_purchase,\n",
    "                                  'Average Purchase Total per Person by Gender': purchase_by_person\n",
    "                                 })\n",
    "purchase_analysis = purchase_analysis.style.format({'Average Purchase Price':'${:.2f}', \n",
    "                                'Average Purchase Total per Person by Gender':'${:.2f}'})\n",
    "purchase_analysis"
   ]
  },
  {
   "cell_type": "markdown",
   "metadata": {},
   "source": [
    "## Age Demographics"
   ]
  },
  {
   "cell_type": "markdown",
   "metadata": {},
   "source": [
    "* Establish bins for ages\n",
    "\n",
    "\n",
    "* Categorize the existing players using the age bins. Hint: use pd.cut()\n",
    "\n",
    "\n",
    "* Calculate the numbers and percentages by age group\n",
    "\n",
    "\n",
    "* Create a summary data frame to hold the results\n",
    "\n",
    "\n",
    "* Optional: round the percentage column to two decimal points\n",
    "\n",
    "\n",
    "* Display Age Demographics Table\n"
   ]
  },
  {
   "cell_type": "code",
   "execution_count": 116,
   "metadata": {},
   "outputs": [
    {
     "data": {
      "text/html": [
       "<style  type=\"text/css\" >\n",
       "</style><table id=\"T_0bf6f602_ddb7_11e9_b568_10f0055b59b3\" ><thead>    <tr>        <th class=\"blank level0\" ></th>        <th class=\"col_heading level0 col0\" >Total Players</th>        <th class=\"col_heading level0 col1\" >Percentage by age group</th>    </tr>    <tr>        <th class=\"index_name level0\" >Age Group</th>        <th class=\"blank\" ></th>        <th class=\"blank\" ></th>    </tr></thead><tbody>\n",
       "                <tr>\n",
       "                        <th id=\"T_0bf6f602_ddb7_11e9_b568_10f0055b59b3level0_row0\" class=\"row_heading level0 row0\" ><10</th>\n",
       "                        <td id=\"T_0bf6f602_ddb7_11e9_b568_10f0055b59b3row0_col0\" class=\"data row0 col0\" >17</td>\n",
       "                        <td id=\"T_0bf6f602_ddb7_11e9_b568_10f0055b59b3row0_col1\" class=\"data row0 col1\" >2.95%</td>\n",
       "            </tr>\n",
       "            <tr>\n",
       "                        <th id=\"T_0bf6f602_ddb7_11e9_b568_10f0055b59b3level0_row1\" class=\"row_heading level0 row1\" >10-14</th>\n",
       "                        <td id=\"T_0bf6f602_ddb7_11e9_b568_10f0055b59b3row1_col0\" class=\"data row1 col0\" >22</td>\n",
       "                        <td id=\"T_0bf6f602_ddb7_11e9_b568_10f0055b59b3row1_col1\" class=\"data row1 col1\" >3.82%</td>\n",
       "            </tr>\n",
       "            <tr>\n",
       "                        <th id=\"T_0bf6f602_ddb7_11e9_b568_10f0055b59b3level0_row2\" class=\"row_heading level0 row2\" >15-19</th>\n",
       "                        <td id=\"T_0bf6f602_ddb7_11e9_b568_10f0055b59b3row2_col0\" class=\"data row2 col0\" >107</td>\n",
       "                        <td id=\"T_0bf6f602_ddb7_11e9_b568_10f0055b59b3row2_col1\" class=\"data row2 col1\" >18.58%</td>\n",
       "            </tr>\n",
       "            <tr>\n",
       "                        <th id=\"T_0bf6f602_ddb7_11e9_b568_10f0055b59b3level0_row3\" class=\"row_heading level0 row3\" >20-24</th>\n",
       "                        <td id=\"T_0bf6f602_ddb7_11e9_b568_10f0055b59b3row3_col0\" class=\"data row3 col0\" >258</td>\n",
       "                        <td id=\"T_0bf6f602_ddb7_11e9_b568_10f0055b59b3row3_col1\" class=\"data row3 col1\" >44.79%</td>\n",
       "            </tr>\n",
       "            <tr>\n",
       "                        <th id=\"T_0bf6f602_ddb7_11e9_b568_10f0055b59b3level0_row4\" class=\"row_heading level0 row4\" >25-29</th>\n",
       "                        <td id=\"T_0bf6f602_ddb7_11e9_b568_10f0055b59b3row4_col0\" class=\"data row4 col0\" >77</td>\n",
       "                        <td id=\"T_0bf6f602_ddb7_11e9_b568_10f0055b59b3row4_col1\" class=\"data row4 col1\" >13.37%</td>\n",
       "            </tr>\n",
       "            <tr>\n",
       "                        <th id=\"T_0bf6f602_ddb7_11e9_b568_10f0055b59b3level0_row5\" class=\"row_heading level0 row5\" >30-34</th>\n",
       "                        <td id=\"T_0bf6f602_ddb7_11e9_b568_10f0055b59b3row5_col0\" class=\"data row5 col0\" >52</td>\n",
       "                        <td id=\"T_0bf6f602_ddb7_11e9_b568_10f0055b59b3row5_col1\" class=\"data row5 col1\" >9.03%</td>\n",
       "            </tr>\n",
       "            <tr>\n",
       "                        <th id=\"T_0bf6f602_ddb7_11e9_b568_10f0055b59b3level0_row6\" class=\"row_heading level0 row6\" >35-39</th>\n",
       "                        <td id=\"T_0bf6f602_ddb7_11e9_b568_10f0055b59b3row6_col0\" class=\"data row6 col0\" >31</td>\n",
       "                        <td id=\"T_0bf6f602_ddb7_11e9_b568_10f0055b59b3row6_col1\" class=\"data row6 col1\" >5.38%</td>\n",
       "            </tr>\n",
       "            <tr>\n",
       "                        <th id=\"T_0bf6f602_ddb7_11e9_b568_10f0055b59b3level0_row7\" class=\"row_heading level0 row7\" >40-44</th>\n",
       "                        <td id=\"T_0bf6f602_ddb7_11e9_b568_10f0055b59b3row7_col0\" class=\"data row7 col0\" >11</td>\n",
       "                        <td id=\"T_0bf6f602_ddb7_11e9_b568_10f0055b59b3row7_col1\" class=\"data row7 col1\" >1.91%</td>\n",
       "            </tr>\n",
       "            <tr>\n",
       "                        <th id=\"T_0bf6f602_ddb7_11e9_b568_10f0055b59b3level0_row8\" class=\"row_heading level0 row8\" >45-49</th>\n",
       "                        <td id=\"T_0bf6f602_ddb7_11e9_b568_10f0055b59b3row8_col0\" class=\"data row8 col0\" >1</td>\n",
       "                        <td id=\"T_0bf6f602_ddb7_11e9_b568_10f0055b59b3row8_col1\" class=\"data row8 col1\" >0.17%</td>\n",
       "            </tr>\n",
       "            <tr>\n",
       "                        <th id=\"T_0bf6f602_ddb7_11e9_b568_10f0055b59b3level0_row9\" class=\"row_heading level0 row9\" >50+</th>\n",
       "                        <td id=\"T_0bf6f602_ddb7_11e9_b568_10f0055b59b3row9_col0\" class=\"data row9 col0\" >0</td>\n",
       "                        <td id=\"T_0bf6f602_ddb7_11e9_b568_10f0055b59b3row9_col1\" class=\"data row9 col1\" >0.00%</td>\n",
       "            </tr>\n",
       "    </tbody></table>"
      ],
      "text/plain": [
       "<pandas.io.formats.style.Styler at 0x13709f5da90>"
      ]
     },
     "execution_count": 116,
     "metadata": {},
     "output_type": "execute_result"
    }
   ],
   "source": [
    "#Age Demographics\n",
    "\n",
    "#Declare the bin variable and assign the bin values\n",
    "bins = [0,9,14,19,24,29,34,39,44,49,100]\n",
    "\n",
    "#Declare a group_names variable and assign the group name for the bins declared above\n",
    "group_names = ['<10','10-14','15-19','20-24','25-29','30-34','35-39','40-44','45-49','50+']\n",
    "\n",
    "#Create a new column 'Age Group' based on the above bin and the group names\n",
    "purchase_data['Age Group'] = pd.cut(purchase_data[\"Age\"], bins, labels=group_names)\n",
    "\n",
    "#Create a dataframe by doing a group by on Age Group from the purchase_data dataframe\n",
    "group_players = purchase_data.groupby(['Age Group'])\n",
    "\n",
    "# Count of players by age group\n",
    "count_players_age = group_players['SN'].nunique()\n",
    "\n",
    "# Percentage of players by age group\n",
    "percent_players_age = count_players_age/sum(count_players_age)*100\n",
    "\n",
    "#Create a DataFrame based on the data collected above\n",
    "age_demographics = pd.DataFrame({'Total Players': count_players_age,\n",
    "                                 'Percentage by age group' : percent_players_age\n",
    "                                })\n",
    "age_demographics = age_demographics.style.format({'Percentage by age group':'{:.2f}%'}) \n",
    "age_demographics"
   ]
  },
  {
   "cell_type": "markdown",
   "metadata": {},
   "source": [
    "## Purchasing Analysis (Age)"
   ]
  },
  {
   "cell_type": "markdown",
   "metadata": {},
   "source": [
    "* Bin the purchase_data data frame by age\n",
    "\n",
    "\n",
    "* Run basic calculations to obtain purchase count, avg. purchase price, avg. purchase total per person etc. in the table below\n",
    "\n",
    "\n",
    "* Create a summary data frame to hold the results\n",
    "\n",
    "\n",
    "* Optional: give the displayed data cleaner formatting\n",
    "\n",
    "\n",
    "* Display the summary data frame"
   ]
  },
  {
   "cell_type": "code",
   "execution_count": 117,
   "metadata": {},
   "outputs": [
    {
     "data": {
      "text/html": [
       "<style  type=\"text/css\" >\n",
       "</style><table id=\"T_0e1b65d8_ddb7_11e9_ad9c_10f0055b59b3\" ><thead>    <tr>        <th class=\"blank level0\" ></th>        <th class=\"col_heading level0 col0\" >Purchase Count</th>        <th class=\"col_heading level0 col1\" >Average Purchase Price</th>        <th class=\"col_heading level0 col2\" >Total Purchase Value</th>        <th class=\"col_heading level0 col3\" >Average Purchase Total per Person by Age Group</th>    </tr>    <tr>        <th class=\"index_name level0\" >Age Group</th>        <th class=\"blank\" ></th>        <th class=\"blank\" ></th>        <th class=\"blank\" ></th>        <th class=\"blank\" ></th>    </tr></thead><tbody>\n",
       "                <tr>\n",
       "                        <th id=\"T_0e1b65d8_ddb7_11e9_ad9c_10f0055b59b3level0_row0\" class=\"row_heading level0 row0\" ><10</th>\n",
       "                        <td id=\"T_0e1b65d8_ddb7_11e9_ad9c_10f0055b59b3row0_col0\" class=\"data row0 col0\" >23</td>\n",
       "                        <td id=\"T_0e1b65d8_ddb7_11e9_ad9c_10f0055b59b3row0_col1\" class=\"data row0 col1\" >$3.35</td>\n",
       "                        <td id=\"T_0e1b65d8_ddb7_11e9_ad9c_10f0055b59b3row0_col2\" class=\"data row0 col2\" >77.13</td>\n",
       "                        <td id=\"T_0e1b65d8_ddb7_11e9_ad9c_10f0055b59b3row0_col3\" class=\"data row0 col3\" >$4.54</td>\n",
       "            </tr>\n",
       "            <tr>\n",
       "                        <th id=\"T_0e1b65d8_ddb7_11e9_ad9c_10f0055b59b3level0_row1\" class=\"row_heading level0 row1\" >10-14</th>\n",
       "                        <td id=\"T_0e1b65d8_ddb7_11e9_ad9c_10f0055b59b3row1_col0\" class=\"data row1 col0\" >28</td>\n",
       "                        <td id=\"T_0e1b65d8_ddb7_11e9_ad9c_10f0055b59b3row1_col1\" class=\"data row1 col1\" >$2.96</td>\n",
       "                        <td id=\"T_0e1b65d8_ddb7_11e9_ad9c_10f0055b59b3row1_col2\" class=\"data row1 col2\" >82.78</td>\n",
       "                        <td id=\"T_0e1b65d8_ddb7_11e9_ad9c_10f0055b59b3row1_col3\" class=\"data row1 col3\" >$3.76</td>\n",
       "            </tr>\n",
       "            <tr>\n",
       "                        <th id=\"T_0e1b65d8_ddb7_11e9_ad9c_10f0055b59b3level0_row2\" class=\"row_heading level0 row2\" >15-19</th>\n",
       "                        <td id=\"T_0e1b65d8_ddb7_11e9_ad9c_10f0055b59b3row2_col0\" class=\"data row2 col0\" >136</td>\n",
       "                        <td id=\"T_0e1b65d8_ddb7_11e9_ad9c_10f0055b59b3row2_col1\" class=\"data row2 col1\" >$3.04</td>\n",
       "                        <td id=\"T_0e1b65d8_ddb7_11e9_ad9c_10f0055b59b3row2_col2\" class=\"data row2 col2\" >412.89</td>\n",
       "                        <td id=\"T_0e1b65d8_ddb7_11e9_ad9c_10f0055b59b3row2_col3\" class=\"data row2 col3\" >$3.86</td>\n",
       "            </tr>\n",
       "            <tr>\n",
       "                        <th id=\"T_0e1b65d8_ddb7_11e9_ad9c_10f0055b59b3level0_row3\" class=\"row_heading level0 row3\" >20-24</th>\n",
       "                        <td id=\"T_0e1b65d8_ddb7_11e9_ad9c_10f0055b59b3row3_col0\" class=\"data row3 col0\" >365</td>\n",
       "                        <td id=\"T_0e1b65d8_ddb7_11e9_ad9c_10f0055b59b3row3_col1\" class=\"data row3 col1\" >$3.05</td>\n",
       "                        <td id=\"T_0e1b65d8_ddb7_11e9_ad9c_10f0055b59b3row3_col2\" class=\"data row3 col2\" >1114.06</td>\n",
       "                        <td id=\"T_0e1b65d8_ddb7_11e9_ad9c_10f0055b59b3row3_col3\" class=\"data row3 col3\" >$4.32</td>\n",
       "            </tr>\n",
       "            <tr>\n",
       "                        <th id=\"T_0e1b65d8_ddb7_11e9_ad9c_10f0055b59b3level0_row4\" class=\"row_heading level0 row4\" >25-29</th>\n",
       "                        <td id=\"T_0e1b65d8_ddb7_11e9_ad9c_10f0055b59b3row4_col0\" class=\"data row4 col0\" >101</td>\n",
       "                        <td id=\"T_0e1b65d8_ddb7_11e9_ad9c_10f0055b59b3row4_col1\" class=\"data row4 col1\" >$2.90</td>\n",
       "                        <td id=\"T_0e1b65d8_ddb7_11e9_ad9c_10f0055b59b3row4_col2\" class=\"data row4 col2\" >293</td>\n",
       "                        <td id=\"T_0e1b65d8_ddb7_11e9_ad9c_10f0055b59b3row4_col3\" class=\"data row4 col3\" >$3.81</td>\n",
       "            </tr>\n",
       "            <tr>\n",
       "                        <th id=\"T_0e1b65d8_ddb7_11e9_ad9c_10f0055b59b3level0_row5\" class=\"row_heading level0 row5\" >30-34</th>\n",
       "                        <td id=\"T_0e1b65d8_ddb7_11e9_ad9c_10f0055b59b3row5_col0\" class=\"data row5 col0\" >73</td>\n",
       "                        <td id=\"T_0e1b65d8_ddb7_11e9_ad9c_10f0055b59b3row5_col1\" class=\"data row5 col1\" >$2.93</td>\n",
       "                        <td id=\"T_0e1b65d8_ddb7_11e9_ad9c_10f0055b59b3row5_col2\" class=\"data row5 col2\" >214</td>\n",
       "                        <td id=\"T_0e1b65d8_ddb7_11e9_ad9c_10f0055b59b3row5_col3\" class=\"data row5 col3\" >$4.12</td>\n",
       "            </tr>\n",
       "            <tr>\n",
       "                        <th id=\"T_0e1b65d8_ddb7_11e9_ad9c_10f0055b59b3level0_row6\" class=\"row_heading level0 row6\" >35-39</th>\n",
       "                        <td id=\"T_0e1b65d8_ddb7_11e9_ad9c_10f0055b59b3row6_col0\" class=\"data row6 col0\" >41</td>\n",
       "                        <td id=\"T_0e1b65d8_ddb7_11e9_ad9c_10f0055b59b3row6_col1\" class=\"data row6 col1\" >$3.60</td>\n",
       "                        <td id=\"T_0e1b65d8_ddb7_11e9_ad9c_10f0055b59b3row6_col2\" class=\"data row6 col2\" >147.67</td>\n",
       "                        <td id=\"T_0e1b65d8_ddb7_11e9_ad9c_10f0055b59b3row6_col3\" class=\"data row6 col3\" >$4.76</td>\n",
       "            </tr>\n",
       "            <tr>\n",
       "                        <th id=\"T_0e1b65d8_ddb7_11e9_ad9c_10f0055b59b3level0_row7\" class=\"row_heading level0 row7\" >40-44</th>\n",
       "                        <td id=\"T_0e1b65d8_ddb7_11e9_ad9c_10f0055b59b3row7_col0\" class=\"data row7 col0\" >12</td>\n",
       "                        <td id=\"T_0e1b65d8_ddb7_11e9_ad9c_10f0055b59b3row7_col1\" class=\"data row7 col1\" >$3.04</td>\n",
       "                        <td id=\"T_0e1b65d8_ddb7_11e9_ad9c_10f0055b59b3row7_col2\" class=\"data row7 col2\" >36.54</td>\n",
       "                        <td id=\"T_0e1b65d8_ddb7_11e9_ad9c_10f0055b59b3row7_col3\" class=\"data row7 col3\" >$3.32</td>\n",
       "            </tr>\n",
       "            <tr>\n",
       "                        <th id=\"T_0e1b65d8_ddb7_11e9_ad9c_10f0055b59b3level0_row8\" class=\"row_heading level0 row8\" >45-49</th>\n",
       "                        <td id=\"T_0e1b65d8_ddb7_11e9_ad9c_10f0055b59b3row8_col0\" class=\"data row8 col0\" >1</td>\n",
       "                        <td id=\"T_0e1b65d8_ddb7_11e9_ad9c_10f0055b59b3row8_col1\" class=\"data row8 col1\" >$1.70</td>\n",
       "                        <td id=\"T_0e1b65d8_ddb7_11e9_ad9c_10f0055b59b3row8_col2\" class=\"data row8 col2\" >1.7</td>\n",
       "                        <td id=\"T_0e1b65d8_ddb7_11e9_ad9c_10f0055b59b3row8_col3\" class=\"data row8 col3\" >$1.70</td>\n",
       "            </tr>\n",
       "            <tr>\n",
       "                        <th id=\"T_0e1b65d8_ddb7_11e9_ad9c_10f0055b59b3level0_row9\" class=\"row_heading level0 row9\" >50+</th>\n",
       "                        <td id=\"T_0e1b65d8_ddb7_11e9_ad9c_10f0055b59b3row9_col0\" class=\"data row9 col0\" >0</td>\n",
       "                        <td id=\"T_0e1b65d8_ddb7_11e9_ad9c_10f0055b59b3row9_col1\" class=\"data row9 col1\" >$nan</td>\n",
       "                        <td id=\"T_0e1b65d8_ddb7_11e9_ad9c_10f0055b59b3row9_col2\" class=\"data row9 col2\" >0</td>\n",
       "                        <td id=\"T_0e1b65d8_ddb7_11e9_ad9c_10f0055b59b3row9_col3\" class=\"data row9 col3\" >$nan</td>\n",
       "            </tr>\n",
       "    </tbody></table>"
      ],
      "text/plain": [
       "<pandas.io.formats.style.Styler at 0x13709fe77b8>"
      ]
     },
     "execution_count": 117,
     "metadata": {},
     "output_type": "execute_result"
    }
   ],
   "source": [
    "#Purchasing Analysis (Age)\n",
    "\n",
    "#Calculate the Average Purchase Price by getting the mean of all the Price data\n",
    "avg_purchase_price_age = group_players['Price'].mean()\n",
    "\n",
    "#Calculate the Average Purchase Price by adding all the Price data\n",
    "total_purchase_price_age = group_players['Price'].sum()\n",
    "\n",
    "#Calculate the purchase count based on the count of Items\n",
    "purchase_count =  group_players['Item ID'].count()\n",
    "\n",
    "#Calculate the Average Purchase by person in the age group by using the formula below\n",
    "purchase_by_person = (total_purchase_price_age/count_players_age)\n",
    "\n",
    "#Create a dataframe using the data collected above\n",
    "purchase_analysis_age = pd.DataFrame({'Purchase Count': purchase_count,\n",
    "                                 'Average Purchase Price' : avg_purchase_price_age,\n",
    "                                 'Total Purchase Value': total_purchase_price_age,\n",
    "                                 'Average Purchase Total per Person by Age Group': purchase_by_person\n",
    "                                })\n",
    "purchase_analysis_age = purchase_analysis_age.style.format({'Average Purchase Price':'${:.2f}', \n",
    "                                'Average Purchase Total per Person by Age Group':'${:.2f}'})\n",
    "purchase_analysis_age"
   ]
  },
  {
   "cell_type": "markdown",
   "metadata": {},
   "source": [
    "## Top Spenders"
   ]
  },
  {
   "cell_type": "markdown",
   "metadata": {},
   "source": [
    "* Run basic calculations to obtain the results in the table below\n",
    "\n",
    "\n",
    "* Create a summary data frame to hold the results\n",
    "\n",
    "\n",
    "* Sort the total purchase value column in descending order\n",
    "\n",
    "\n",
    "* Optional: give the displayed data cleaner formatting\n",
    "\n",
    "\n",
    "* Display a preview of the summary data frame\n",
    "\n"
   ]
  },
  {
   "cell_type": "code",
   "execution_count": 118,
   "metadata": {},
   "outputs": [
    {
     "data": {
      "text/html": [
       "<div>\n",
       "<style scoped>\n",
       "    .dataframe tbody tr th:only-of-type {\n",
       "        vertical-align: middle;\n",
       "    }\n",
       "\n",
       "    .dataframe tbody tr th {\n",
       "        vertical-align: top;\n",
       "    }\n",
       "\n",
       "    .dataframe thead th {\n",
       "        text-align: right;\n",
       "    }\n",
       "</style>\n",
       "<table border=\"1\" class=\"dataframe\">\n",
       "  <thead>\n",
       "    <tr style=\"text-align: right;\">\n",
       "      <th></th>\n",
       "      <th>Purchase Count</th>\n",
       "      <th>Average Purchase Price</th>\n",
       "      <th>Total Purchase Price</th>\n",
       "    </tr>\n",
       "    <tr>\n",
       "      <th>SN</th>\n",
       "      <th></th>\n",
       "      <th></th>\n",
       "      <th></th>\n",
       "    </tr>\n",
       "  </thead>\n",
       "  <tbody>\n",
       "    <tr>\n",
       "      <th>Lisosia93</th>\n",
       "      <td>5</td>\n",
       "      <td>3.792000</td>\n",
       "      <td>18.96</td>\n",
       "    </tr>\n",
       "    <tr>\n",
       "      <th>Idastidru52</th>\n",
       "      <td>4</td>\n",
       "      <td>3.862500</td>\n",
       "      <td>15.45</td>\n",
       "    </tr>\n",
       "    <tr>\n",
       "      <th>Chamjask73</th>\n",
       "      <td>3</td>\n",
       "      <td>4.610000</td>\n",
       "      <td>13.83</td>\n",
       "    </tr>\n",
       "    <tr>\n",
       "      <th>Iral74</th>\n",
       "      <td>4</td>\n",
       "      <td>3.405000</td>\n",
       "      <td>13.62</td>\n",
       "    </tr>\n",
       "    <tr>\n",
       "      <th>Iskadarya95</th>\n",
       "      <td>3</td>\n",
       "      <td>4.366667</td>\n",
       "      <td>13.10</td>\n",
       "    </tr>\n",
       "  </tbody>\n",
       "</table>\n",
       "</div>"
      ],
      "text/plain": [
       "             Purchase Count  Average Purchase Price  Total Purchase Price\n",
       "SN                                                                       \n",
       "Lisosia93                 5                3.792000                 18.96\n",
       "Idastidru52               4                3.862500                 15.45\n",
       "Chamjask73                3                4.610000                 13.83\n",
       "Iral74                    4                3.405000                 13.62\n",
       "Iskadarya95               3                4.366667                 13.10"
      ]
     },
     "execution_count": 118,
     "metadata": {},
     "output_type": "execute_result"
    }
   ],
   "source": [
    "group_spender = purchase_data.groupby(['SN'])\n",
    "\n",
    "#Total Purchase Value\n",
    "tot_purchase_top_spender = group_spender['Price'].sum()\n",
    "#Purchase count\n",
    "purchase_count_spender = group_spender['Price'].nunique()\n",
    "#Average Purchase price\n",
    "avg_purchase_spender = group_spender['Price'].mean()\n",
    "\n",
    "df_spender = pd.DataFrame({'Purchase Count': purchase_count_spender,\n",
    "                           'Average Purchase Price': avg_purchase_spender,\n",
    "                           'Total Purchase Price' : tot_purchase_top_spender\n",
    "                          })\n",
    "# Sort purchase value in descending order\n",
    "df_spender_sort = df_spender.sort_values(\"Total Purchase Price\", ascending = False)\n",
    "\n",
    "#Extracting only top 5 spenders into a different data frame\n",
    "df_spender_top_5 = df_spender_sort.head(5)\n",
    "\n",
    "#Displaying only top 5 spenders\n",
    "df_spender_top_5"
   ]
  },
  {
   "cell_type": "markdown",
   "metadata": {},
   "source": [
    "## Most Popular Items"
   ]
  },
  {
   "cell_type": "markdown",
   "metadata": {},
   "source": [
    "* Retrieve the Item ID, Item Name, and Item Price columns\n",
    "\n",
    "\n",
    "* Group by Item ID and Item Name. Perform calculations to obtain purchase count, item price, and total purchase value\n",
    "\n",
    "\n",
    "* Create a summary data frame to hold the results\n",
    "\n",
    "\n",
    "* Sort the purchase count column in descending order\n",
    "\n",
    "\n",
    "* Optional: give the displayed data cleaner formatting\n",
    "\n",
    "\n",
    "* Display a preview of the summary data frame\n",
    "\n"
   ]
  },
  {
   "cell_type": "code",
   "execution_count": 119,
   "metadata": {},
   "outputs": [
    {
     "data": {
      "text/html": [
       "<div>\n",
       "<style scoped>\n",
       "    .dataframe tbody tr th:only-of-type {\n",
       "        vertical-align: middle;\n",
       "    }\n",
       "\n",
       "    .dataframe tbody tr th {\n",
       "        vertical-align: top;\n",
       "    }\n",
       "\n",
       "    .dataframe thead th {\n",
       "        text-align: right;\n",
       "    }\n",
       "</style>\n",
       "<table border=\"1\" class=\"dataframe\">\n",
       "  <thead>\n",
       "    <tr style=\"text-align: right;\">\n",
       "      <th></th>\n",
       "      <th></th>\n",
       "      <th>Purchase Count</th>\n",
       "      <th>Item Price</th>\n",
       "      <th>Total Purchase Value</th>\n",
       "    </tr>\n",
       "    <tr>\n",
       "      <th>Item ID</th>\n",
       "      <th>Item Name</th>\n",
       "      <th></th>\n",
       "      <th></th>\n",
       "      <th></th>\n",
       "    </tr>\n",
       "  </thead>\n",
       "  <tbody>\n",
       "    <tr>\n",
       "      <th>178</th>\n",
       "      <th>Oathbreaker, Last Hope of the Breaking Storm</th>\n",
       "      <td>12</td>\n",
       "      <td>4.23</td>\n",
       "      <td>50.76</td>\n",
       "    </tr>\n",
       "    <tr>\n",
       "      <th>145</th>\n",
       "      <th>Fiery Glass Crusader</th>\n",
       "      <td>9</td>\n",
       "      <td>4.58</td>\n",
       "      <td>41.22</td>\n",
       "    </tr>\n",
       "    <tr>\n",
       "      <th>108</th>\n",
       "      <th>Extraction, Quickblade Of Trembling Hands</th>\n",
       "      <td>9</td>\n",
       "      <td>3.53</td>\n",
       "      <td>31.77</td>\n",
       "    </tr>\n",
       "    <tr>\n",
       "      <th>82</th>\n",
       "      <th>Nirvana</th>\n",
       "      <td>9</td>\n",
       "      <td>4.90</td>\n",
       "      <td>44.10</td>\n",
       "    </tr>\n",
       "    <tr>\n",
       "      <th>19</th>\n",
       "      <th>Pursuit, Cudgel of Necromancy</th>\n",
       "      <td>8</td>\n",
       "      <td>1.02</td>\n",
       "      <td>8.16</td>\n",
       "    </tr>\n",
       "  </tbody>\n",
       "</table>\n",
       "</div>"
      ],
      "text/plain": [
       "                                                      Purchase Count  \\\n",
       "Item ID Item Name                                                      \n",
       "178     Oathbreaker, Last Hope of the Breaking Storm              12   \n",
       "145     Fiery Glass Crusader                                       9   \n",
       "108     Extraction, Quickblade Of Trembling Hands                  9   \n",
       "82      Nirvana                                                    9   \n",
       "19      Pursuit, Cudgel of Necromancy                              8   \n",
       "\n",
       "                                                      Item Price  \\\n",
       "Item ID Item Name                                                  \n",
       "178     Oathbreaker, Last Hope of the Breaking Storm        4.23   \n",
       "145     Fiery Glass Crusader                                4.58   \n",
       "108     Extraction, Quickblade Of Trembling Hands           3.53   \n",
       "82      Nirvana                                             4.90   \n",
       "19      Pursuit, Cudgel of Necromancy                       1.02   \n",
       "\n",
       "                                                      Total Purchase Value  \n",
       "Item ID Item Name                                                           \n",
       "178     Oathbreaker, Last Hope of the Breaking Storm                 50.76  \n",
       "145     Fiery Glass Crusader                                         41.22  \n",
       "108     Extraction, Quickblade Of Trembling Hands                    31.77  \n",
       "82      Nirvana                                                      44.10  \n",
       "19      Pursuit, Cudgel of Necromancy                                 8.16  "
      ]
     },
     "execution_count": 119,
     "metadata": {},
     "output_type": "execute_result"
    }
   ],
   "source": [
    "# Most Popular Items\n",
    "\n",
    "#Group by Item ID and Item Name\n",
    "popular_items = purchase_data.groupby([\"Item ID\",\"Item Name\"])\n",
    "\n",
    "# Purchase Count \n",
    "popular_purchase_count = popular_items[\"Item ID\"].count()\n",
    "\n",
    "# Total purchase value\n",
    "popular_purchase_value = popular_items[\"Price\"].sum()\n",
    "\n",
    "# Item price\n",
    "popular_item_price = popular_items[\"Price\"].mean()\n",
    "\n",
    "# Place all of the data found into a summary DataFrame\n",
    "\n",
    "df_popular_items =pd.DataFrame({'Purchase Count' : popular_purchase_count, \n",
    "                                'Item Price': popular_item_price ,\n",
    "                                'Total Purchase Value': popular_purchase_value})\n",
    "\n",
    "\n",
    "# # Sort purchase value in descending order\n",
    "df_popular_items_sort = df_popular_items.sort_values(\"Purchase Count\", ascending = False)\n",
    "\n",
    "# Find top popular items\n",
    "most_popular = df_popular_items_sort.head(5)\n",
    "\n",
    "# Display the summary dataframe\n",
    "most_popular"
   ]
  },
  {
   "cell_type": "markdown",
   "metadata": {},
   "source": [
    "## Most Profitable Items"
   ]
  },
  {
   "cell_type": "markdown",
   "metadata": {},
   "source": [
    "* Sort the above table by total purchase value in descending order\n",
    "\n",
    "\n",
    "* Optional: give the displayed data cleaner formatting\n",
    "\n",
    "\n",
    "* Display a preview of the data frame\n",
    "\n"
   ]
  },
  {
   "cell_type": "code",
   "execution_count": 120,
   "metadata": {
    "scrolled": true
   },
   "outputs": [
    {
     "data": {
      "text/html": [
       "<div>\n",
       "<style scoped>\n",
       "    .dataframe tbody tr th:only-of-type {\n",
       "        vertical-align: middle;\n",
       "    }\n",
       "\n",
       "    .dataframe tbody tr th {\n",
       "        vertical-align: top;\n",
       "    }\n",
       "\n",
       "    .dataframe thead th {\n",
       "        text-align: right;\n",
       "    }\n",
       "</style>\n",
       "<table border=\"1\" class=\"dataframe\">\n",
       "  <thead>\n",
       "    <tr style=\"text-align: right;\">\n",
       "      <th></th>\n",
       "      <th></th>\n",
       "      <th>Purchase Count</th>\n",
       "      <th>Item Price</th>\n",
       "      <th>Total Purchase Value</th>\n",
       "    </tr>\n",
       "    <tr>\n",
       "      <th>Item ID</th>\n",
       "      <th>Item Name</th>\n",
       "      <th></th>\n",
       "      <th></th>\n",
       "      <th></th>\n",
       "    </tr>\n",
       "  </thead>\n",
       "  <tbody>\n",
       "    <tr>\n",
       "      <th>178</th>\n",
       "      <th>Oathbreaker, Last Hope of the Breaking Storm</th>\n",
       "      <td>12</td>\n",
       "      <td>4.23</td>\n",
       "      <td>50.76</td>\n",
       "    </tr>\n",
       "    <tr>\n",
       "      <th>82</th>\n",
       "      <th>Nirvana</th>\n",
       "      <td>9</td>\n",
       "      <td>4.90</td>\n",
       "      <td>44.10</td>\n",
       "    </tr>\n",
       "    <tr>\n",
       "      <th>145</th>\n",
       "      <th>Fiery Glass Crusader</th>\n",
       "      <td>9</td>\n",
       "      <td>4.58</td>\n",
       "      <td>41.22</td>\n",
       "    </tr>\n",
       "    <tr>\n",
       "      <th>108</th>\n",
       "      <th>Extraction, Quickblade Of Trembling Hands</th>\n",
       "      <td>9</td>\n",
       "      <td>3.53</td>\n",
       "      <td>31.77</td>\n",
       "    </tr>\n",
       "    <tr>\n",
       "      <th>19</th>\n",
       "      <th>Pursuit, Cudgel of Necromancy</th>\n",
       "      <td>8</td>\n",
       "      <td>1.02</td>\n",
       "      <td>8.16</td>\n",
       "    </tr>\n",
       "  </tbody>\n",
       "</table>\n",
       "</div>"
      ],
      "text/plain": [
       "                                                      Purchase Count  \\\n",
       "Item ID Item Name                                                      \n",
       "178     Oathbreaker, Last Hope of the Breaking Storm              12   \n",
       "82      Nirvana                                                    9   \n",
       "145     Fiery Glass Crusader                                       9   \n",
       "108     Extraction, Quickblade Of Trembling Hands                  9   \n",
       "19      Pursuit, Cudgel of Necromancy                              8   \n",
       "\n",
       "                                                      Item Price  \\\n",
       "Item ID Item Name                                                  \n",
       "178     Oathbreaker, Last Hope of the Breaking Storm        4.23   \n",
       "82      Nirvana                                             4.90   \n",
       "145     Fiery Glass Crusader                                4.58   \n",
       "108     Extraction, Quickblade Of Trembling Hands           3.53   \n",
       "19      Pursuit, Cudgel of Necromancy                       1.02   \n",
       "\n",
       "                                                      Total Purchase Value  \n",
       "Item ID Item Name                                                           \n",
       "178     Oathbreaker, Last Hope of the Breaking Storm                 50.76  \n",
       "82      Nirvana                                                      44.10  \n",
       "145     Fiery Glass Crusader                                         41.22  \n",
       "108     Extraction, Quickblade Of Trembling Hands                    31.77  \n",
       "19      Pursuit, Cudgel of Necromancy                                 8.16  "
      ]
     },
     "execution_count": 120,
     "metadata": {},
     "output_type": "execute_result"
    }
   ],
   "source": [
    "most_profitable = most_popular.sort_values(\"Total Purchase Value\", ascending = False)\n",
    "\n",
    "most_profitable"
   ]
  },
  {
   "cell_type": "code",
   "execution_count": null,
   "metadata": {},
   "outputs": [],
   "source": []
  }
 ],
 "metadata": {
  "anaconda-cloud": {},
  "kernel_info": {
   "name": "python3"
  },
  "kernelspec": {
   "display_name": "Python 3",
   "language": "python",
   "name": "python3"
  },
  "language_info": {
   "codemirror_mode": {
    "name": "ipython",
    "version": 3
   },
   "file_extension": ".py",
   "mimetype": "text/x-python",
   "name": "python",
   "nbconvert_exporter": "python",
   "pygments_lexer": "ipython3",
   "version": "3.7.3"
  },
  "latex_envs": {
   "LaTeX_envs_menu_present": true,
   "autoclose": false,
   "autocomplete": true,
   "bibliofile": "biblio.bib",
   "cite_by": "apalike",
   "current_citInitial": 1,
   "eqLabelWithNumbers": true,
   "eqNumInitial": 1,
   "hotkeys": {
    "equation": "Ctrl-E",
    "itemize": "Ctrl-I"
   },
   "labels_anchors": false,
   "latex_user_defs": false,
   "report_style_numbering": false,
   "user_envs_cfg": false
  },
  "nteract": {
   "version": "0.2.0"
  }
 },
 "nbformat": 4,
 "nbformat_minor": 2
}
